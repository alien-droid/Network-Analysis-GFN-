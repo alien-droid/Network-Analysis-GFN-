{
 "cells": [
  {
   "cell_type": "code",
   "execution_count": 3,
   "metadata": {},
   "outputs": [],
   "source": [
    "import requests"
   ]
  },
  {
   "cell_type": "markdown",
   "metadata": {},
   "source": [
    "##### Using 'API-KEY' to access the GFN API\n"
   ]
  },
  {
   "cell_type": "code",
   "execution_count": 1,
   "metadata": {},
   "outputs": [],
   "source": [
    "api_key = 'G4h5oGDCacaNmpaPaU0sq9k4t58E58PNM0bdCb4Uu1785k3EqMq' # API key (required, can be obtained using https://data.footprintnetwork.org/#/api)\n",
    "\n",
    "#url = 'https://api.footprintnetwork.org/v1/years'\n",
    "request_headers = {\"HTTP_ACCEPT\": \"application/json\"}\n",
    "username = 'footprint' # dummy username\n",
    "\n",
    "def make_gfn_request(url):\n",
    "    response = requests.get(url,headers=request_headers, auth=(username, api_key))\n",
    "    if response.status_code == 200:\n",
    "        return response.json()\n",
    "                   "
   ]
  },
  {
   "cell_type": "markdown",
   "metadata": {},
   "source": [
    "##### Extracting data from the API and pre-processing it before storing in a 'csv' file."
   ]
  },
  {
   "cell_type": "code",
   "execution_count": 17,
   "metadata": {},
   "outputs": [
    {
     "name": "stdout",
     "output_type": "stream",
     "text": [
      "       value  year score  countryCode                      countryName  \\\n",
      "27491  2.732  1992               2002                           Europe   \n",
      "27492  1.277  1992               2003  Latin America and the Caribbean   \n",
      "27493  4.691  1992               2004                    North America   \n",
      "27494  1.228  1992               2005                          Oceania   \n",
      "27495  1.206  1992    3A         5001                            World   \n",
      "\n",
      "       record  cropLand  grazingLand  forestLand  fishingGround  builtupLand  \\\n",
      "27491  Earths     0.555        0.140       0.295          0.126        0.062   \n",
      "27492  Earths     0.235        0.401       0.193          0.059        0.050   \n",
      "27493  Earths     0.728        0.202       0.641          0.073        0.022   \n",
      "27494  Earths     0.246        0.117       0.098          0.365        0.154   \n",
      "27495  Earths     0.247        0.095       0.162          0.051        0.023   \n",
      "\n",
      "       carbon  \n",
      "27491   1.554  \n",
      "27492   0.340  \n",
      "27493   3.026  \n",
      "27494   0.249  \n",
      "27495   0.629  \n"
     ]
    }
   ],
   "source": [
    "import pandas as pd\n",
    "\n",
    "# to scale down the high-precision floating point numbers\n",
    "def round_format(df):\n",
    "    for col in df.columns:\n",
    "        if isinstance(df[col].iloc[0], float):\n",
    "            df[col] = df[col].apply(lambda x:round(x, 3))\n",
    "\n",
    "\n",
    "#['value', 'year', 'score', 'shortName', 'countryCode', 'countryName', 'isoa2', 'record', 'cropLand', 'grazingLand', 'forestLand', 'fishingGround', 'builtupLand', 'carbon']\n",
    "column_names = ['shortName', 'isoa2'] # omitting these column names\n",
    "main_df = pd.DataFrame()\n",
    "for year in range(2022, 1990, -5):\n",
    "    url = f'https://api.footprintnetwork.org/v1/data/all/{year}'\n",
    "    data_json = make_gfn_request(url)\n",
    "    df = pd.json_normalize(data_json)\n",
    "    df = df.drop(column_names, axis=1)\n",
    "    round_format(df)\n",
    "    main_df = pd.concat([main_df, df], ignore_index=True)\n",
    "    \n",
    "print(main_df.tail())\n",
    "main_df.to_csv('main_df.csv', index=False) # temporarily store the combined data frame for network construction"
   ]
  }
 ],
 "metadata": {
  "kernelspec": {
   "display_name": "nlp",
   "language": "python",
   "name": "python3"
  },
  "language_info": {
   "codemirror_mode": {
    "name": "ipython",
    "version": 3
   },
   "file_extension": ".py",
   "mimetype": "text/x-python",
   "name": "python",
   "nbconvert_exporter": "python",
   "pygments_lexer": "ipython3",
   "version": "3.10.13"
  }
 },
 "nbformat": 4,
 "nbformat_minor": 2
}
